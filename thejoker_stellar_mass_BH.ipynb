{
 "cells": [
  {
   "cell_type": "markdown",
   "id": "ad207941-99e2-4d97-8f65-50ca8e3a7b7b",
   "metadata": {},
   "source": [
    "# Stellar Mass Black Hole Companion"
   ]
  },
  {
   "cell_type": "markdown",
   "id": "cdebb849-f2d2-4e7e-b1bf-3023b4599740",
   "metadata": {},
   "source": [
    "## Background"
   ]
  },
  {
   "cell_type": "markdown",
   "id": "23fa4b91-ea0b-4e96-99df-eb24c7de9431",
   "metadata": {},
   "source": [
    "Here we will look at how to detect a stellar mass black hole in a binary system! This tutorial is HEAVILY inspired by Adrian Price-Whelan's [tutorial](https://thejoker.readthedocs.io/en/latest/examples/Thompson-black-hole.html) (most of the code is from there!), but don't look there for the answers!\n",
    "\n",
    "Here we will be trying to repoduce the discovery from [Thompson et al. 2019](https://ui.adsabs.harvard.edu/abs/2019Sci...366..637T/abstract), who found a a stellar mass black hole in a binary system with a giant star in our Milky Way. We will combine their TRES radial velocity data with data from APOGEE to determine the orbital parameters of the system, including the binary mass!"
   ]
  },
  {
   "cell_type": "markdown",
   "id": "e81d6963-0b3e-46a5-bc70-1032d6c0523d",
   "metadata": {},
   "source": [
    "## Data"
   ]
  },
  {
   "cell_type": "markdown",
   "id": "8323b61e-32a9-4306-acb3-f917d0285a21",
   "metadata": {},
   "source": [
    "Below we will add the approproiate imports and the data needed for the tutorial:"
   ]
  },
  {
   "cell_type": "code",
   "execution_count": null,
   "id": "ec461b10-7cff-43ee-8cc6-dacdfc423dc5",
   "metadata": {},
   "outputs": [],
   "source": [
    "import arviz as az\n",
    "import astropy.units as u\n",
    "import corner\n",
    "import matplotlib.pyplot as plt\n",
    "import numpy as np\n",
    "import pymc as pm\n",
    "import thejoker as tj\n",
    "import thejoker.units as xu\n",
    "from astropy.io import ascii\n",
    "from astropy.time import Time\n",
    "import os\n",
    "%matplotlib inline\n",
    "plt.style.use('../mystyle.mplstyle')\n",
    "\n",
    "# set up a random number generator to ensure reproducibility\n",
    "seed = 42\n",
    "rnd = np.random.default_rng(seed=seed)\n",
    "\n",
    "# data from Thompson et al; (2019)\n",
    "tres_tbl = ascii.read(\n",
    "    \"\"\"8006.97517 0.000 0.075\n",
    "    8023.98151 -43.313 0.075\n",
    "    8039.89955 -27.963 0.045\n",
    "    8051.98423 10.928 0.118\n",
    "    8070.99556 43.782 0.075\n",
    "    8099.80651 -30.033 0.054\n",
    "    8106.91698 -42.872 0.135\n",
    "    8112.81800 -44.863 0.088\n",
    "    8123.79627 -25.810 0.115\n",
    "    8136.59960 15.691 0.146\n",
    "    8143.78352 34.281 0.087\"\"\",\n",
    "    names=[\"HJD\", \"rv\", \"rv_err\"],\n",
    ")\n",
    "tres_tbl[\"rv\"].unit = u.km / u.s\n",
    "tres_tbl[\"rv_err\"].unit = u.km / u.s\n",
    "\n",
    "# APOGEE data\n",
    "apogee_tbl = ascii.read(\n",
    "    \"\"\"6204.95544 -37.417 0.011\n",
    "    6229.92499 34.846 0.010\n",
    "    6233.87715 42.567 0.010\"\"\",\n",
    "    names=[\"HJD\", \"rv\", \"rv_err\"],\n",
    ")\n",
    "apogee_tbl[\"rv\"].unit = u.km / u.s\n",
    "apogee_tbl[\"rv_err\"].unit = u.km / u.s"
   ]
  },
  {
   "cell_type": "markdown",
   "id": "bd92e281-3802-4a14-8ec1-b9298a9852b1",
   "metadata": {},
   "source": [
    "To fit the orbit in this tutorial, we will be using [thejoker](https://thejoker.readthedocs.io/en/latest/index.html), which is a custom Monte Carlo sampler for the two-body problem. As a result, we will need to create some custom data objects that will be used by thejoker to do the sampling. This is done below."
   ]
  },
  {
   "cell_type": "code",
   "execution_count": null,
   "id": "ee5ba7ff-716f-44ed-98e9-db3924d47a38",
   "metadata": {},
   "outputs": [],
   "source": [
    "tres_data = tj.RVData(\n",
    "    t=Time(tres_tbl[\"HJD\"] + 2450000, format=\"jd\", scale=\"tcb\"),\n",
    "    rv=u.Quantity(tres_tbl[\"rv\"]),\n",
    "    rv_err=u.Quantity(tres_tbl[\"rv_err\"]),\n",
    ")\n",
    "\n",
    "apogee_data = tj.RVData(\n",
    "    t=Time(apogee_tbl[\"HJD\"] + 2450000, format=\"jd\", scale=\"tcb\"),\n",
    "    rv=u.Quantity(apogee_tbl[\"rv\"]),\n",
    "    rv_err=u.Quantity(apogee_tbl[\"rv_err\"]),\n",
    ")\n",
    "\n",
    "tres_data.plot(color=None, label=\"TRES\")\n",
    "plt.legend(fontsize=18)\n",
    "\n"
   ]
  },
  {
   "cell_type": "markdown",
   "id": "38449e35-99ce-47ad-8919-86d61c235537",
   "metadata": {},
   "source": [
    "## First, the TRES data"
   ]
  },
  {
   "cell_type": "markdown",
   "id": "9ae9a267-d730-4e8f-9c7a-69cab5bb7320",
   "metadata": {},
   "source": [
    "First, let us just fit the TRES data! Above we can see that the RV signal is periodic (yay!), but the errors are TINY (yes, they are there). thejoker allows you to add some non-linear parameters to the model, such as an extra uncertainty to the errors:\n",
    "$$\n",
    "\\sigma_n = \\sqrt{\\sigma_{n,0}^2 + s ^2}\n",
    "$$\n",
    "This will just be one parameter in the model. thejoker also has some default priors for the other orbital paramters:\n",
    "$$\n",
    "p(P) \\propto \\frac{1}{P}; \\ P:(P_{min}, P_{max})\n",
    "$$\n",
    "$$\n",
    "p(e) = B(\\alpha_e, b_e)\n",
    "$$\n",
    "$$\n",
    "p(\\omega) = \\mathcal{U}(0, 2\\pi)\n",
    "$$\n",
    "$$\n",
    "p(M_0) = \\mathcal{U}(0, 2\\pi)\n",
    "$$\n",
    "$$\n",
    "p(K) = \\mathcal{N}(K|\\mu_K, \\sigma_K)\n",
    "$$\n",
    "$$\n",
    "\\sigma_K = \\sigma_{K, 0} \\left( \\frac{P}{P_0}^{-1/3} \\right) (1-e^2)^{-1/2}\n",
    "$$\n",
    "$$\n",
    "p(v_0) = \\mathcal{N}(v_0|\\mu_{v_0}, \\sigma_{v_0})\n",
    "$$\n",
    "So, in the above we are fitting the RV curve for the period ($P$), eccentricity ($e$), the pericenter phase ($M_0$) and argument ($\\omega$), velocity semi-amplite ($K$) and barycenter velocity ($v_0$).\n",
    "\n",
    "With the above in mind, below I will demonstrate how to set up the priors (including these default priors). Also, we will intially do rejection sampling of these distriubtions. Essentially, we unformily sample the priors and only accept the parameters if they match the data to some theshold. If enough samples survive this rejection criteria, we have a good estimate of the posterior! If not, we have a good starting point to run the MCMC."
   ]
  },
  {
   "cell_type": "code",
   "execution_count": null,
   "id": "05139a0e-b45b-4ae3-b468-bece917d68b9",
   "metadata": {},
   "outputs": [],
   "source": [
    "with pm.Model() as model:\n",
    "    # Allow extra error to account for under-estimated error bars\n",
    "    s = xu.with_unit(pm.Lognormal(\"s\", -2, 1), u.km / u.s)\n",
    "\n",
    "    prior = tj.JokerPrior.default(\n",
    "        P_min=16 * u.day,\n",
    "        P_max=128 * u.day,  # Range of periods to consider\n",
    "        sigma_K0=30 * u.km / u.s,\n",
    "        P0=1 * u.year,  # scale of the prior on semiamplitude, K\n",
    "        sigma_v=25 * u.km / u.s,  # std dev of the prior on the systemic velocity, v0\n",
    "        s=s,\n",
    "    )\n",
    "\n",
    "# Generate a large number of prior samples:\n",
    "prior_samples = prior.sample(size=1_000_000, rng=rnd)\n",
    "\n",
    "# Run rejection sampling with The Joker:\n",
    "joker = tj.TheJoker(prior, rng=rnd)\n",
    "samples = joker.rejection_sample(tres_data, prior_samples, max_posterior_samples=256)\n",
    "\n",
    "samples"
   ]
  },
  {
   "cell_type": "markdown",
   "id": "b4f53b63-0508-4af3-ab59-dfcd6fd3eeb2",
   "metadata": {},
   "source": [
    "Only one sample survived, but let's see how it looks compared to the Thompson et al. (2019) values:\n",
    "$$\n",
    "P = 83.205 \\pm 0.064 \\ days\n",
    "$$\n",
    "$$\n",
    "e = 0.00476 \\pm 0.00255\n",
    "$$\n",
    "$$\n",
    "K = 44.615 \\pm 0.123 \\ km/s\n",
    "$$"
   ]
  },
  {
   "cell_type": "code",
   "execution_count": null,
   "id": "72e7503a-b23a-46c2-b098-c130d576ba8f",
   "metadata": {},
   "outputs": [],
   "source": [
    "samples.tbl[\"P\", \"e\", \"K\"]\n"
   ]
  },
  {
   "cell_type": "code",
   "execution_count": null,
   "id": "42084cc9-a9c8-4f80-8bd5-14c1508e3674",
   "metadata": {},
   "outputs": [],
   "source": [
    "_ = tj.plot_rv_curves(samples, data=tres_data)\n",
    "\n"
   ]
  },
  {
   "cell_type": "markdown",
   "id": "75fe2eda-a930-413d-b848-a4ed8a0f9116",
   "metadata": {},
   "source": [
    "## Let's add the APOGEE data!"
   ]
  },
  {
   "cell_type": "markdown",
   "id": "89e0120a-0f17-45e7-a3da-2837e3067799",
   "metadata": {},
   "source": [
    "We have more data though! We also have some RV information from APOGEE we can use for the fit. The issue is these two spectrographs have a zero-point offset. So, we will need to add another parameter, which is an offset between the RVs of the two spectrographs. In the below cell, add this as a prior distribution models as a Gaussian with mean of 0 km/s and standard deviation of 5 km/s. Fill in the below code to set this up, run the rejection sample and plot the results!"
   ]
  },
  {
   "cell_type": "code",
   "execution_count": null,
   "id": "763df015-315b-401c-89eb-34f8f007ef4a",
   "metadata": {},
   "outputs": [],
   "source": [
    "data = [apogee_data, tres_data]\n",
    "\n",
    "with pm.Model() as model:\n",
    "    # The parameter that represents the constant velocity offset between\n",
    "    # APOGEE and TRES:\n",
    "    dv0_1 = ### ADD CODE HERE ###\n",
    "\n",
    "    # The same extra uncertainty parameter as previously defined\n",
    "    s = xu.with_unit(pm.Lognormal(\"s\", -2, 1), u.km / u.s)\n",
    "\n",
    "    # We can restrict the prior on prior now, using the above\n",
    "    prior_joint = tj.JokerPrior.default(\n",
    "        # P_min=16*u.day, P_max=128*u.day,\n",
    "        P_min=75 * u.day,\n",
    "        P_max=90 * u.day,\n",
    "        sigma_K0=30 * u.km / u.s,\n",
    "        P0=1 * u.year,\n",
    "        sigma_v=25 * u.km / u.s,\n",
    "        v0_offsets=[dv0_1],\n",
    "        s=s,\n",
    "    )\n",
    "\n",
    "prior_samples_joint = prior_joint.sample(size=1_000_000, rng=rnd)\n",
    "\n",
    "# Run rejection sampling with The Joker:\n",
    "joker_joint = tj.TheJoker(prior_joint, rng=rnd)\n",
    "samples_joint = joker_joint.rejection_sample(\n",
    "    data, prior_samples_joint, max_posterior_samples=256\n",
    ")\n",
    "\n",
    "_ = tj.plot_rv_curves(samples_joint, data=data)\n",
    "\n"
   ]
  },
  {
   "cell_type": "markdown",
   "id": "3a3293db-5e57-4a76-a1b8-ebfe68a4046e",
   "metadata": {},
   "source": [
    "## Run full MCMC!"
   ]
  },
  {
   "cell_type": "markdown",
   "id": "90e15d73-6de1-4d4e-9b17-1177b09908bd",
   "metadata": {},
   "source": [
    "Let's trying running a full MCMC with this though to visualize the posterior distirubtion. For a Keplarian Orbit, angles are hard for samples to deal with. That is why we will do two things. First, we want to use `pymc3_ext.distributions.angle`, which samples over $cos(x)$ and $sin(x)$ instead. Additionally, we will want to sample over $M_0 - \\omega$ and $\\omega$, instead of $M_0$ and $\\omega$. Then, we will be able to use the rejection sample from the above to initialze the MCMC and run things! Some of the code is filled out by me below, but working on filling in the missing bits based on what I have said above!"
   ]
  },
  {
   "cell_type": "code",
   "execution_count": null,
   "id": "46ef1e0d-4bcb-48a6-b175-dcade2daccd3",
   "metadata": {},
   "outputs": [],
   "source": [
    "from pymc_ext.distributions import angle\n",
    "\n",
    "with pm.Model():\n",
    "    # See note above: when running MCMC, we will sample in the parameters\n",
    "    # (M0 - omega, omega) instead of (M0, omega)\n",
    "    M0_m_omega = ### ADD CODE HERE ###\n",
    "    omega = ### ADD CODE HERE ###\n",
    "    M0 = ### ADD CODE HERE ###\n",
    "    # HINT: angle dsitrubtion is simply defined as: angle('omega')\n",
    "\n",
    "    # The same offset and extra uncertainty parameters as above:\n",
    "    dv0_1 = xu.with_unit(pm.Normal(\"dv0_1\", 0, 5.0), u.km / u.s)\n",
    "    s = xu.with_unit(pm.Lognormal(\"s\", -2, 0.5), u.km / u.s)\n",
    "\n",
    "    prior_mcmc = tj.JokerPrior.default(\n",
    "        P_min=16 * u.day,\n",
    "        P_max=128 * u.day,\n",
    "        sigma_K0=30 * u.km / u.s,\n",
    "        P0=1 * u.year,\n",
    "        sigma_v=25 * u.km / u.s,\n",
    "        v0_offsets=[dv0_1],\n",
    "        s=s,\n",
    "        pars={\"M0\": M0, \"omega\": omega},\n",
    "    )\n",
    "\n",
    "    joker_mcmc = tj.TheJoker(prior_mcmc, rng=rnd)\n",
    "    mcmc_init = joker_mcmc.setup_mcmc(data, samples_joint)\n",
    "\n",
    "    trace = pm.sample(\n",
    "        tune=1000, draws=500, start=mcmc_init, random_seed=seed, cores=1, chains=2\n",
    "    )\n"
   ]
  },
  {
   "cell_type": "markdown",
   "id": "e6c2661a-a4d5-47c4-a67c-fcc84231b73e",
   "metadata": {},
   "source": [
    "With this done, we can now look at the results!"
   ]
  },
  {
   "cell_type": "code",
   "execution_count": null,
   "id": "35285fc7-6452-4193-8af1-176a072bb323",
   "metadata": {},
   "outputs": [],
   "source": [
    "# get the samples\n",
    "mcmc_samples = tj.JokerSamples.from_inference_data(prior_joint, trace, data=data)\n",
    "mcmc_samples = mcmc_samples.wrap_K()\n",
    "df = mcmc_samples.tbl.to_pandas()\n",
    "\n",
    "# look at summary table\n",
    "az.summary(trace, var_names=prior_mcmc.par_names)\n"
   ]
  },
  {
   "cell_type": "markdown",
   "id": "50030b0c-f532-487e-a867-bcccf1732e1d",
   "metadata": {},
   "source": [
    "The dataframe above now has all of our samples! Use this and the corner package to plot the resulting MCMC samples"
   ]
  },
  {
   "cell_type": "code",
   "execution_count": null,
   "id": "f2889c21-de92-4f46-9efc-66e5252c728a",
   "metadata": {},
   "outputs": [],
   "source": [
    "### ADD CODE HERE ###\n"
   ]
  },
  {
   "cell_type": "markdown",
   "id": "4f4ea730-87ef-4d08-9a99-3e38244e5736",
   "metadata": {},
   "source": [
    "Finally, we can look at the binary mass function for the system:\n",
    "$$\n",
    "f(M) = \\frac{M_2^3 sin^3i}{(M_1 + M_2)^2}\n",
    "$$\n",
    "This can accessed for each sample like: `mcmc_samples.get_orbit(i).m_f`. Below, sample 1000 of the random orbits and plot their distirbuton! See how it compares the Thompson et al. (2019); $f(M) = 0.766 \\pm 0.00637$"
   ]
  },
  {
   "cell_type": "code",
   "execution_count": null,
   "id": "c96ab11e-3224-45eb-8579-02b5466aca41",
   "metadata": {},
   "outputs": [],
   "source": [
    "### ADD CODE HERE ###\n"
   ]
  },
  {
   "cell_type": "markdown",
   "id": "4e784499-cc9a-4105-a7cd-431284792d4c",
   "metadata": {},
   "source": [
    "So, this is in pretty good agreement and we see that there is a large mass companion!"
   ]
  },
  {
   "cell_type": "code",
   "execution_count": null,
   "id": "089bf994-dff6-485b-b803-843d5302ca6b",
   "metadata": {},
   "outputs": [],
   "source": []
  }
 ],
 "metadata": {
  "kernelspec": {
   "display_name": "Python 3 (ipykernel)",
   "language": "python",
   "name": "python3"
  },
  "language_info": {
   "codemirror_mode": {
    "name": "ipython",
    "version": 3
   },
   "file_extension": ".py",
   "mimetype": "text/x-python",
   "name": "python",
   "nbconvert_exporter": "python",
   "pygments_lexer": "ipython3",
   "version": "3.11.13"
  }
 },
 "nbformat": 4,
 "nbformat_minor": 5
}
