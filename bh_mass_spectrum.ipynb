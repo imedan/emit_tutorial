{
 "cells": [
  {
   "cell_type": "markdown",
   "id": "095f668e-17f7-4379-893a-8f536237070f",
   "metadata": {},
   "source": [
    "# Measuring Black Hole Mass from Emission Lines"
   ]
  },
  {
   "cell_type": "markdown",
   "id": "5d9c7518-6dd1-4722-bbae-b04b9db30933",
   "metadata": {},
   "source": [
    "## Background"
   ]
  },
  {
   "cell_type": "markdown",
   "id": "71502903-21d9-47d5-93cf-663508e5d591",
   "metadata": {},
   "source": [
    "Just as a quick reminder, below is the unifed model of AGN (from [Areg Mickaelian](https://ui.adsabs.harvard.edu/abs/2015IrJAA...2....1M/abstract)):\n",
    "\n",
    "<p style=\"text-align: center\"><img src=\"figures/Schematic-view-of-the-Unified-Model-Different-regions-emitting-with-different-mechanisms.png\"></p>\n",
    "\n",
    "Here we see how the central engine (a SMBH) effects its surroundings and results in different spectral features. Particularly, we will be interested in the Broad Line Region for this tutorial. This is the region of gas that is greatly effected by the SMBH, so the broad, variable lines resulting from these interactions have been used to determine black hole masses. This can only be done in Seyfert 1's, which have the correct viewing angle that doesn't block this region by the dusty torus."
   ]
  },
  {
   "cell_type": "markdown",
   "id": "b11720ba-7df3-4de5-bb64-64b356c959e8",
   "metadata": {},
   "source": [
    "## Data"
   ]
  },
  {
   "cell_type": "markdown",
   "id": "04c46243-bad3-44b7-99f2-748bbef21102",
   "metadata": {},
   "source": [
    "For this example, we will be using data from [MaNGA](https://www.sdss4.org/surveys/manga/). MaNGA is and IFU survey, meaning it uses a bundle of fibers to get a spectrum at various points in a wide field of view. For nearby galaxies, this means you can get a spectrum for different spatial regions in the galaxy:\n",
    "\n",
    "<p style=\"text-align: center\"><img src=\"figures/ex_IFU_galaxy.jpg\"></p>\n",
    "\n",
    "For this tutorial, we will look at the MaNGA observations for Mrk 1146, which is a Seyfert I galaxy. Recall, this means that we will be able to observe the broad line region in the center of the galaxy. The flux data from MaNGA is stored in a \"cube\", which means that the first dimension will be the the wavelength of the measuremnt, the second dimension the spatial X direction and the third dimension the spatial Y direction. Additionally, we will load arrays for the wavelength of the first dimension and a model of the stellar continuum for the galaxy, which we will use later"
   ]
  },
  {
   "cell_type": "code",
   "execution_count": null,
   "id": "98881f04-3baa-42d5-9752-56624348e6f5",
   "metadata": {},
   "outputs": [],
   "source": [
    "import numpy as np\n",
    "\n",
    "with np.load('../mkr_1146_manga_data_cube.npz') as res:\n",
    "    wavelength = res['wavelength']  # wavelength in angstroms (A)\n",
    "    cube = res['cube']  # flux in 1e-17 erg/s/cm^-2/A/spaxel\n",
    "    stellar_cont_model = res['stellar_cont_model']  # model flux in 1e-17 erg/s/cm^-2/A/spaxel"
   ]
  },
  {
   "cell_type": "markdown",
   "id": "0f6bcdcb-ddd1-4cbf-aad7-5a63a15c3aff",
   "metadata": {},
   "source": [
    "The first thing we need to do is account for the redshift of the galaxy. As the galaxy is moving away from us, this means all of the light is redshifted such that:\n",
    "$$\n",
    "1 + z = \\frac{\\lambda_{obs}}{\\lambda_{emit}}\n",
    "$$\n",
    "The measured redshift of Mrk 1146 is $z = 0.039$. Correct the above wavelength to the restframe."
   ]
  },
  {
   "cell_type": "code",
   "execution_count": null,
   "id": "e42d867d-6580-41b7-9be9-9d26344a7316",
   "metadata": {},
   "outputs": [],
   "source": [
    "z = 0.039\n",
    "wavelength_rest =  ### ADD CODE HERE ###"
   ]
  },
  {
   "cell_type": "markdown",
   "id": "c634d6c6-6752-4f02-8f3b-41526b2f9158",
   "metadata": {},
   "source": [
    "Now that we have the rest wavelength, let's look at how the flux across the galaxy changes with wavelength. \n",
    "\n",
    "Have some example where you look at H alpha and then some other weavelength to see the differences."
   ]
  },
  {
   "cell_type": "code",
   "execution_count": null,
   "id": "7225c672-485d-4c43-a8ce-8fe14e66077b",
   "metadata": {},
   "outputs": [],
   "source": [
    "import matplotlib.pylab as plt\n",
    "import os\n",
    "%matplotlib inline\n",
    "plt.style.use('../mystyle.mplstyle')\n",
    "\n",
    "\n",
    "### ADD CODE HERE ###"
   ]
  },
  {
   "cell_type": "markdown",
   "id": "a58c161e-f510-459c-95bd-0533993997c6",
   "metadata": {},
   "source": [
    "## Let's look at the AGN!"
   ]
  },
  {
   "cell_type": "markdown",
   "id": "80dfd489-3538-44a7-a870-fa5834c7885e",
   "metadata": {},
   "source": [
    "Now, let's focus on the center of the galaxy where the AGN is. To find the spaxel at the center, identify the XY location where the peak in H$\\beta$ occurs. The rest wavelength of H$\\beta$ is $\\lambda \\approx 4862$ Angstroms. Once you find this XY location, plot the spectrum at this location. Additionally, plot the model spectrum for this spaxel."
   ]
  },
  {
   "cell_type": "code",
   "execution_count": null,
   "id": "d1a02978-dc5e-4065-87ff-d1a5ff197414",
   "metadata": {},
   "outputs": [],
   "source": [
    "x, y = ### ADD CODE HERE ###\n",
    "spec_agn = cube[:, x, y]\n",
    "spec_model = stellar_cont_model[:, x, y]\n",
    "\n",
    "### ADD CODE HERE ###"
   ]
  },
  {
   "cell_type": "markdown",
   "id": "1e6d1e9f-ecf7-4478-9d68-f7a1ef4dabbf",
   "metadata": {},
   "source": [
    "Here we see large emission lines that cannont be explained by the stellar continuum for the galaxy. This is due to the various components of the AGN! We are particularly interested in the Broad Line Region for this example. To see this better, we will zoom in on the region around H$\\beta$. Below we will substract the stellar model in this region and show some of the lines that appear."
   ]
  },
  {
   "cell_type": "code",
   "execution_count": null,
   "id": "457a3065-a7ee-4c3e-b753-903146d83034",
   "metadata": {},
   "outputs": [],
   "source": [
    "plt.figure(figsize=(15, 7))\n",
    "plt.plot(wavelength_rest, spec_agn - spec_model)\n",
    "plt.xlim((4800, 5200))\n",
    "plt.grid()\n",
    "plt.xlabel('Rest Wavelength (Angstroms)')\n",
    "plt.ylabel(r'Flux ($10^{-17}$ erg/s/cm$^{-2}$/$\\AA$)')\n",
    "plt.text(4862, 1, r'H$\\beta$', c='r')\n",
    "plt.text(4960, 1.8, r'[OIII]', c='r')\n",
    "plt.text(5010, 4.8, r'[OIII]', c='r')\n",
    "plt.show()\n"
   ]
  },
  {
   "cell_type": "markdown",
   "id": "efef085f-6c90-4e84-a447-758a31088046",
   "metadata": {},
   "source": [
    "## Determiniong Black Hole Mass from Emission Line Widths"
   ]
  },
  {
   "cell_type": "markdown",
   "id": "5d4ade6e-55b8-40c1-9b6a-5a998cab4d16",
   "metadata": {},
   "source": [
    "In the above, the broad H$\\beta$ feature is from the Broad Line Region. Here, we assume that the gas in this region is moving in the graviation potential of the black hole:\n",
    "$$\n",
    "v = \\sqrt{\\frac{GM}{R}} \\rightarrow M = \\frac{v^2R}{G}\n",
    "$$\n",
    "In the above, the $v$ is the velocity of the gas, $R$ is the radius of the Broad Line Region and $G$ is the gravitational constant. This means, if we can measure the velocity of the gas and know the physical size of the Broad Line Region, we can calculate the mass of the black hole.\n",
    "\n",
    "From these data, we can not find the size of the Broad Line Region. This can be down from reverberation mapping though. From [Bentz et al. (2009)](https://iopscience.iop.org/article/10.1088/0004-637X/697/1/160), it was found that there is a relationship between the size of the Broad Line Region and the luminosity of the continuum:\n",
    "\n",
    "<p style=\"text-align: center\"><img src=\"figures/apj293253f5_lr.gif\"></p>\n",
    "\n",
    "This shows that $R \\sim f \\times \\lambda L_\\lambda$. If you combine this \"fudge factor\" with the velocity, this means that:\n",
    "$$\n",
    "M = 1.05 \\times 10^8 \\left( \\frac{L_{5100}}{10^{46} / ergs/s} \\right)^{0.65} \\left( \\frac{FWHM(H\\beta)}{10^{3} / km/s} \\right)^{2} \\ M_\\odot\n",
    "$$\n",
    "This means we have two things we need to measure from the spectrum, 1) the luminosity at our continuum at $\\approx 5100$ Angstroms and 2) the FWHM of our H$\\beta$ emission feature."
   ]
  },
  {
   "cell_type": "markdown",
   "id": "49d2f1e9-b650-4022-88a6-86a352165ad9",
   "metadata": {},
   "source": [
    "Let us first focus on the luminosity of the continuum. This can be determined by:\n",
    "$$\n",
    "L = \\lambda F_\\lambda \\times 4 \\pi d^2\n",
    "$$\n",
    "In the above, $d$ is the distance to the galaxy, where:\n",
    "$$\n",
    "d = \\frac{zc}{H_0}\n",
    "$$\n",
    "$H_0$ is the Hubble constant and for this example we will assume $H_0 \\approx 72$ km/s/Mpc.\n",
    "\n",
    "Below, find the average continuum luminosity for $5095 < \\lambda < 5105$ Angstroms. Be careful with units!!!"
   ]
  },
  {
   "cell_type": "code",
   "execution_count": null,
   "id": "b9d22470-a26e-4371-82ea-28ec798039c1",
   "metadata": {},
   "outputs": [],
   "source": [
    "### ADD CODE HERE ###\n",
    "\n",
    "L5100 = ### ADD CODE HERE ###\n"
   ]
  },
  {
   "cell_type": "markdown",
   "id": "ad1de9b6-476c-4e6e-a9f9-084b200471bb",
   "metadata": {},
   "source": [
    "Next, let's focus on the Broad Line Region! For this, we will focus on the spectrum minus the stellar continuum model. We will then estimate the emission features as a Gaussuian of the general form:\n",
    "$$\n",
    "N = A \\ exp\\left(-\\frac{(x - \\mu)^2}{2 \\sigma^2} \\right)\n",
    "$$\n",
    "The FWHM is the approximated as:\n",
    "$$\n",
    "FWHM \\approx 2.335 \\sigma\n",
    "$$\n",
    "Do note that we are generally measuring the FWHM in wavelength units! To get this as a velocity of the gas:\n",
    "$$\n",
    "\\frac{\\Delta\\lambda}{\\lambda} = \\frac{v}{c}\n",
    "$$\n",
    "\n",
    "So, below we will fit the emission features near H$\\beta$. This means we have to fit the two $[OIII]$ features as well. So, fit the spectrum in the region of $4800 < \\lambda < 5200$ Angstroms with a four component Gaussian. We need two compoents for H$\\beta$ to account for both the narrow line and broad line regions! From this, the calculate the FWHM of H$\\beta$."
   ]
  },
  {
   "cell_type": "code",
   "execution_count": null,
   "id": "f29379d5-1013-49de-8259-a62292de5896",
   "metadata": {},
   "outputs": [],
   "source": [
    "from scipy.optimize import curve_fit\n",
    "\n",
    "def comp4_gauss():\n",
    "    ### ADD CODE HERE ###\n",
    "    # HINT: fix the mean to the wavelength of the lines, Hbeta = 4862, [OIII] - 4960, 5008\n",
    "\n",
    "### ADD CODE HERE ###\n",
    "\n",
    "fwhm = ### ADD CODE HERE ###"
   ]
  },
  {
   "cell_type": "code",
   "execution_count": null,
   "id": "e953d2f1-07a4-4153-99c7-aef3903be081",
   "metadata": {},
   "outputs": [],
   "source": [
    "plt.figure(figsize=(15, 7))\n",
    "plt.plot(wavelength_rest, spec_agn - spec_model)\n",
    "plt.plot(wavelength_rest, comp4_gauss(wavelength_rest, *popt))\n",
    "plt.xlim((4800, 5200))\n",
    "plt.grid()\n",
    "plt.xlabel('Rest Wavelength (Angstroms)')\n",
    "plt.ylabel(r'Flux ($10^{-17}$ erg/s/cm$^{-2}$/$\\AA$)')\n",
    "plt.text(4862, 1, r'H$\\beta$', c='r')\n",
    "plt.text(4960, 1.8, r'[OIII]', c='r')\n",
    "plt.text(5010, 4.8, r'[OIII]', c='r')\n",
    "plt.show()\n",
    "\n"
   ]
  },
  {
   "cell_type": "markdown",
   "id": "30059150-d4a8-47e8-b6ca-407b6aa52ca2",
   "metadata": {},
   "source": [
    "Now we can finally calculate the black hole mass! Do this below based on the mass equation above."
   ]
  },
  {
   "cell_type": "code",
   "execution_count": null,
   "id": "af25dfee-b94c-4dcd-95a7-084eb90a4dba",
   "metadata": {},
   "outputs": [],
   "source": [
    "M = ### ADD CODE HERE ###\n",
    "\n",
    "print('The black hole mass of Mrk 1146 is %.3f 10^4 Solar masses' % (M / 1e4))"
   ]
  },
  {
   "cell_type": "code",
   "execution_count": null,
   "id": "f5a47993-2f6f-4609-8ec8-eab6f8ee3cd2",
   "metadata": {},
   "outputs": [],
   "source": []
  }
 ],
 "metadata": {
  "kernelspec": {
   "display_name": "Python 3 (ipykernel)",
   "language": "python",
   "name": "python3"
  },
  "language_info": {
   "codemirror_mode": {
    "name": "ipython",
    "version": 3
   },
   "file_extension": ".py",
   "mimetype": "text/x-python",
   "name": "python",
   "nbconvert_exporter": "python",
   "pygments_lexer": "ipython3",
   "version": "3.11.13"
  }
 },
 "nbformat": 4,
 "nbformat_minor": 5
}
